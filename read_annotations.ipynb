{
 "cells": [
  {
   "cell_type": "code",
   "execution_count": 9,
   "id": "25017bbe-fff7-42f0-ac48-a882fd03abca",
   "metadata": {},
   "outputs": [],
   "source": [
    "import numpy as np\n",
    "from pathlib import Path\n",
    "from os import listdir"
   ]
  },
  {
   "cell_type": "code",
   "execution_count": 7,
   "id": "a636f561-38e2-45bd-9083-a9a032218547",
   "metadata": {},
   "outputs": [],
   "source": [
    "dataset_path = Path(\"./train_set\")\n",
    "dataset_images_path = dataset_path / \"images\"\n",
    "dataset_annot_path = dataset_path / \"annotations\"\n",
    "\n",
    "sample_path = Path(\"./sampled_train_set\")\n",
    "sample_images_path = sample_path / \"images\"\n",
    "sample_annot_path = sample_path / \"annotations\""
   ]
  },
  {
   "cell_type": "code",
   "execution_count": 10,
   "id": "51fe08b3-ec5a-4801-ba91-fdfbaa31976c",
   "metadata": {},
   "outputs": [],
   "source": [
    "files = listdir(sample_annot_path)"
   ]
  },
  {
   "cell_type": "code",
   "execution_count": 42,
   "id": "5e33979e-f075-4e51-84df-52c3054b4134",
   "metadata": {},
   "outputs": [
    {
     "data": {
      "text/plain": [
       "'100158_exp.npy'"
      ]
     },
     "execution_count": 42,
     "metadata": {},
     "output_type": "execute_result"
    }
   ],
   "source": [
    "files[1]"
   ]
  },
  {
   "cell_type": "code",
   "execution_count": 26,
   "id": "13aaa967-d841-4baa-abd9-60292e178164",
   "metadata": {},
   "outputs": [],
   "source": [
    "res = np.load(sample_annot_path / files[2])"
   ]
  },
  {
   "cell_type": "code",
   "execution_count": 35,
   "id": "27854407-e7a7-4252-b78a-b95c02cef56b",
   "metadata": {},
   "outputs": [
    {
     "data": {
      "text/plain": [
       "True"
      ]
     },
     "execution_count": 35,
     "metadata": {},
     "output_type": "execute_result"
    }
   ],
   "source": [
    "\"exp\" in files[1]"
   ]
  },
  {
   "cell_type": "code",
   "execution_count": 36,
   "id": "031a8d9c-c02d-4737-845d-334533693c40",
   "metadata": {},
   "outputs": [],
   "source": [
    "label_files = [f for f in files if \"exp\" in f]"
   ]
  },
  {
   "cell_type": "code",
   "execution_count": 38,
   "id": "fc2aa7b7-f3b8-4e35-9150-3c6a583fbaf8",
   "metadata": {},
   "outputs": [
    {
     "data": {
      "text/plain": [
       "2371"
      ]
     },
     "execution_count": 38,
     "metadata": {},
     "output_type": "execute_result"
    }
   ],
   "source": [
    "len(label_files)"
   ]
  },
  {
   "cell_type": "code",
   "execution_count": 39,
   "id": "d98963bf-4c70-4ba2-a2c0-579ea64faf64",
   "metadata": {},
   "outputs": [],
   "source": [
    "label_files.sort()"
   ]
  },
  {
   "cell_type": "code",
   "execution_count": null,
   "id": "2399412c-9755-4c4d-9e1a-be2e8af73415",
   "metadata": {},
   "outputs": [],
   "source": []
  }
 ],
 "metadata": {
  "kernelspec": {
   "display_name": "venv",
   "language": "python",
   "name": "venv"
  },
  "language_info": {
   "codemirror_mode": {
    "name": "ipython",
    "version": 3
   },
   "file_extension": ".py",
   "mimetype": "text/x-python",
   "name": "python",
   "nbconvert_exporter": "python",
   "pygments_lexer": "ipython3",
   "version": "3.9.5"
  }
 },
 "nbformat": 4,
 "nbformat_minor": 5
}
