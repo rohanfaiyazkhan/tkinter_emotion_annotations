{
 "cells": [
  {
   "cell_type": "code",
   "execution_count": 1,
   "id": "2170bfa4-3b28-4ee3-b482-495fb3aa1b6e",
   "metadata": {},
   "outputs": [],
   "source": [
    "import numpy as np\n",
    "from os import listdir\n",
    "import shutil\n",
    "from pathlib import Path"
   ]
  },
  {
   "cell_type": "code",
   "execution_count": 2,
   "id": "62dd5a66-93fe-464a-aa40-49e8856871dc",
   "metadata": {},
   "outputs": [],
   "source": [
    "total_num_of_images = 287_651\n",
    "num_of_samples = 2382"
   ]
  },
  {
   "cell_type": "code",
   "execution_count": 3,
   "id": "08f239dc-e9dd-4e7c-9723-79874eb388df",
   "metadata": {},
   "outputs": [],
   "source": [
    "np.random.seed(42)"
   ]
  },
  {
   "cell_type": "code",
   "execution_count": 4,
   "id": "5486a9d1-ed72-499b-b2e9-313db4c3b46b",
   "metadata": {},
   "outputs": [],
   "source": [
    "img_range = np.arange(total_num_of_images)"
   ]
  },
  {
   "cell_type": "code",
   "execution_count": 5,
   "id": "604b5d96-005d-4274-acbf-bfc98f6b691b",
   "metadata": {},
   "outputs": [],
   "source": [
    "samples_idx = np.random.choice(img_range, (num_of_samples,))"
   ]
  },
  {
   "cell_type": "code",
   "execution_count": 6,
   "id": "4c83f4a7-0d78-403c-a02f-e17ea19f6ff3",
   "metadata": {},
   "outputs": [
    {
     "data": {
      "text/plain": [
       "(2382,)"
      ]
     },
     "execution_count": 6,
     "metadata": {},
     "output_type": "execute_result"
    }
   ],
   "source": [
    "samples_idx.shape"
   ]
  },
  {
   "cell_type": "code",
   "execution_count": 19,
   "id": "501c6fe4-43be-4f65-b8c9-7c86e17a2705",
   "metadata": {},
   "outputs": [],
   "source": [
    "dataset_path = Path(\"./train_set\")\n",
    "dataset_images_path = dataset_path / \"images\"\n",
    "sample_path = Path(\"./sampled_train_set\")\n",
    "sample_images_path = sample_path / \"images\""
   ]
  },
  {
   "cell_type": "code",
   "execution_count": 17,
   "id": "966ee0a9-374e-4511-9582-5ca5ddc9bfb8",
   "metadata": {},
   "outputs": [],
   "source": [
    "all_images = np.array(listdir(dataset_images_path))"
   ]
  },
  {
   "cell_type": "code",
   "execution_count": 10,
   "id": "682edf28-1e62-4e0f-bf59-a114e4a8cd89",
   "metadata": {},
   "outputs": [
    {
     "data": {
      "text/plain": [
       "287651"
      ]
     },
     "execution_count": 10,
     "metadata": {},
     "output_type": "execute_result"
    }
   ],
   "source": [
    "len(all_images)"
   ]
  },
  {
   "cell_type": "code",
   "execution_count": 11,
   "id": "77dc9123-acdb-4331-bffe-cd21de1ab7ab",
   "metadata": {},
   "outputs": [],
   "source": [
    "samples = [Path(f) for f in all_images[samples_idx]]"
   ]
  },
  {
   "cell_type": "code",
   "execution_count": 14,
   "id": "09a261c6-3533-4b5d-9ad7-6c1496db86cd",
   "metadata": {},
   "outputs": [],
   "source": [
    "sample_numbers = [f.stem for f in samples]"
   ]
  },
  {
   "cell_type": "code",
   "execution_count": 22,
   "id": "b1271dd4-20a0-43df-91e5-aa0a6b657339",
   "metadata": {},
   "outputs": [],
   "source": [
    "for sample_num in sample_numbers:\n",
    "    image_fn = sample_num + \".jpg\"\n",
    "    annotation_fns = [sample_num + \"_aro.npy\", sample_num + \"_exp.npy\", sample_num + \"_lnd.npy\", sample_num + \"_val.npy\"]\n",
    "    \n",
    "    shutil.copyfile(dataset_images_path / image_fn, sample_images_path / image_fn)\n",
    "    \n",
    "    for annotation_fn in annotation_fns:\n",
    "        shutil.copyfile(dataset_path / \"annotations\" / annotation_fn, sample_path / \"annotations\" / annotation_fn)"
   ]
  },
  {
   "cell_type": "code",
   "execution_count": null,
   "id": "e4f91726-358f-45f7-b085-e2f0f255cfcc",
   "metadata": {},
   "outputs": [],
   "source": []
  }
 ],
 "metadata": {
  "kernelspec": {
   "display_name": "venv",
   "language": "python",
   "name": "venv"
  },
  "language_info": {
   "codemirror_mode": {
    "name": "ipython",
    "version": 3
   },
   "file_extension": ".py",
   "mimetype": "text/x-python",
   "name": "python",
   "nbconvert_exporter": "python",
   "pygments_lexer": "ipython3",
   "version": "3.9.5"
  }
 },
 "nbformat": 4,
 "nbformat_minor": 5
}
